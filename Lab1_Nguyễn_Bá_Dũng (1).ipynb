{
  "nbformat": 4,
  "nbformat_minor": 0,
  "metadata": {
    "colab": {
      "provenance": [],
      "toc_visible": true
    },
    "kernelspec": {
      "name": "python3",
      "display_name": "Python 3"
    },
    "language_info": {
      "name": "python"
    }
  },
  "cells": [
    {
      "cell_type": "markdown",
      "source": [
        "W2A1"
      ],
      "metadata": {
        "id": "tbkb9fqfP5wt"
      }
    },
    {
      "cell_type": "code",
      "source": [
        "print(\"Hello World!\")\n"
      ],
      "metadata": {
        "colab": {
          "base_uri": "https://localhost:8080/"
        },
        "id": "jhwzTqj6P9R0",
        "outputId": "e37d61db-237c-4d57-a736-ba6749e966e1"
      },
      "execution_count": null,
      "outputs": [
        {
          "output_type": "stream",
          "name": "stdout",
          "text": [
            "Hello World!\n"
          ]
        }
      ]
    },
    {
      "cell_type": "markdown",
      "source": [
        "W2A2"
      ],
      "metadata": {
        "id": "Jy7ifCMJQAUs"
      }
    },
    {
      "cell_type": "code",
      "source": [
        "name = input(\"Nhập Tên: \")\n",
        "print(\"Hello \" + name)"
      ],
      "metadata": {
        "colab": {
          "base_uri": "https://localhost:8080/"
        },
        "id": "jcR-OX7eQB4U",
        "outputId": "c4aa974a-df12-41ed-c64d-cb6cf55c2d80"
      },
      "execution_count": null,
      "outputs": [
        {
          "output_type": "stream",
          "name": "stdout",
          "text": [
            "Nhập Tên: dung\n",
            "Hello dung\n"
          ]
        }
      ]
    },
    {
      "cell_type": "markdown",
      "source": [
        "W2A3"
      ],
      "metadata": {
        "id": "Tsv46LRnQQoF"
      }
    },
    {
      "cell_type": "code",
      "source": [
        "a = int(input())\n",
        "b = int(input())\n",
        "\n",
        "tong = a + b\n",
        "hieu = a - b\n",
        "tich = a * b\n",
        "phan_nguyen = a // b\n",
        "phan_du = a % b\n",
        "chia_thuc = a / b\n",
        "\n",
        "print(f\"Tổng: {tong}\")\n",
        "print(f\"Hiệu: {hieu}\")\n",
        "print(f\"Tích: {tich}\")\n",
        "print(f\"Phần nguyên: {phan_nguyen}\")\n",
        "print(f\"Phần dư: {phan_du}\")\n",
        "print(f\"Chia thực: {chia_thuc:.2f}\")"
      ],
      "metadata": {
        "colab": {
          "base_uri": "https://localhost:8080/"
        },
        "id": "msyDXU-yQhT8",
        "outputId": "860ef4d6-c37a-4751-dad1-c247039d9fc4"
      },
      "execution_count": null,
      "outputs": [
        {
          "output_type": "stream",
          "name": "stdout",
          "text": [
            "1\n",
            "2\n",
            "Tổng: 3\n",
            "Hiệu: -1\n",
            "Tích: 2\n",
            "Phần nguyên: 0\n",
            "Phần dư: 1\n",
            "Chia thực: 0.50\n"
          ]
        }
      ]
    },
    {
      "cell_type": "markdown",
      "source": [
        "W2A4"
      ],
      "metadata": {
        "id": "QU183gdtQktU"
      }
    },
    {
      "cell_type": "code",
      "source": [
        "a1 = float(input())\n",
        "b1 = float(input())\n",
        "c1 = float(input())\n",
        "a2 = float(input())\n",
        "b2 = float(input())\n",
        "a3 = float(input())\n",
        "\n",
        "tb = ((a1 + b1 + c1) + (a2 + b2) * 2 + a3 * 3) / 10\n",
        "\n",
        "print(f\"{tb:.1f}\")\n"
      ],
      "metadata": {
        "colab": {
          "base_uri": "https://localhost:8080/"
        },
        "id": "wEgrfbODQmbM",
        "outputId": "8fc2184b-6238-4297-8f8a-040d2f1ee576"
      },
      "execution_count": null,
      "outputs": [
        {
          "output_type": "stream",
          "name": "stdout",
          "text": [
            "1\n",
            "2\n",
            "3\n",
            "4\n",
            "5\n",
            "6\n",
            "4.2\n"
          ]
        }
      ]
    },
    {
      "cell_type": "markdown",
      "source": [
        "W2A5"
      ],
      "metadata": {
        "id": "_J67NoxfQ6Qs"
      }
    },
    {
      "cell_type": "code",
      "source": [
        "a = int(input(\"Nhập a: \"))\n",
        "b = int(input(\"Nhập b: \"))\n",
        "print(a**b)"
      ],
      "metadata": {
        "colab": {
          "base_uri": "https://localhost:8080/"
        },
        "id": "ocAiKasvQ8H0",
        "outputId": "c9108374-9973-413f-e374-cffdc957f1f9"
      },
      "execution_count": null,
      "outputs": [
        {
          "output_type": "stream",
          "name": "stdout",
          "text": [
            "Nhập a: 1\n",
            "Nhập b: 2\n",
            "1\n"
          ]
        }
      ]
    },
    {
      "cell_type": "markdown",
      "source": [
        "W2A6"
      ],
      "metadata": {
        "id": "9rmiZfqnRk5F"
      }
    },
    {
      "cell_type": "code",
      "source": [
        "char = input(\"Nhập Ký tự: \")\n",
        "print(ord(char))\n",
        "print(char.upper())"
      ],
      "metadata": {
        "colab": {
          "base_uri": "https://localhost:8080/"
        },
        "id": "u_3v3-3xRl5s",
        "outputId": "6064e771-1d85-4d24-fd07-129ae2742991"
      },
      "execution_count": null,
      "outputs": [
        {
          "output_type": "stream",
          "name": "stdout",
          "text": [
            "Nhập Ký tự: a\n",
            "97\n",
            "A\n"
          ]
        }
      ]
    },
    {
      "cell_type": "markdown",
      "source": [
        "W2A7"
      ],
      "metadata": {
        "id": "ltvqwH71R3Wd"
      }
    },
    {
      "cell_type": "code",
      "source": [
        "A = ((13 ** 2) * 3) + 5\n",
        "B = 13 ** 2 * 3 + 5\n",
        "\n",
        "print(\"A =\", A)\n",
        "print(\"B =\", B)\n"
      ],
      "metadata": {
        "colab": {
          "base_uri": "https://localhost:8080/"
        },
        "id": "SkDJMjXFR430",
        "outputId": "f23e3063-6ef3-4ccb-b45d-0aa234066f58"
      },
      "execution_count": null,
      "outputs": [
        {
          "output_type": "stream",
          "name": "stdout",
          "text": [
            "A = 512\n",
            "B = 512\n"
          ]
        }
      ]
    },
    {
      "cell_type": "markdown",
      "source": [
        "W2A8"
      ],
      "metadata": {
        "id": "8G5AmIQgR-88"
      }
    },
    {
      "cell_type": "code",
      "source": [
        "celcius = int(input(\"Nhập Nhiệt Độ: \"))\n",
        "farenheit = (celcius * 9 / 5) + 32\n",
        "print(f\"{farenheit:.1f}\")"
      ],
      "metadata": {
        "colab": {
          "base_uri": "https://localhost:8080/"
        },
        "id": "6Miqz_duSAts",
        "outputId": "0045bec6-fccd-4b92-ac5a-90944ab98584"
      },
      "execution_count": null,
      "outputs": [
        {
          "output_type": "stream",
          "name": "stdout",
          "text": [
            "Nhập Nhiệt Độ: 5\n",
            "41.0\n"
          ]
        }
      ]
    },
    {
      "cell_type": "markdown",
      "source": [
        "W2A9"
      ],
      "metadata": {
        "id": "J-7CwrxCSycs"
      }
    },
    {
      "cell_type": "code",
      "source": [
        "price = int(input(\"Nhập Giá: \"))\n",
        "real_price = (price + 10) * 1.1 * 1.3\n",
        "print(f\"{real_price:.2f}\")"
      ],
      "metadata": {
        "colab": {
          "base_uri": "https://localhost:8080/"
        },
        "id": "kcIKZxVLSzt8",
        "outputId": "ae205951-d8bc-424e-b938-f5fdb7c4aece"
      },
      "execution_count": null,
      "outputs": [
        {
          "output_type": "stream",
          "name": "stdout",
          "text": [
            "Nhập Giá: 1\n",
            "15.73\n"
          ]
        }
      ]
    },
    {
      "cell_type": "markdown",
      "source": [
        "W2A10"
      ],
      "metadata": {
        "id": "XekBf91tTO6t"
      }
    },
    {
      "cell_type": "code",
      "source": [
        "name1 = input()\n",
        "name2 = input()\n",
        "name3 = input()\n",
        "\n",
        "print(f\"Hi {name3}, {name2} and {name1}.\")"
      ],
      "metadata": {
        "colab": {
          "base_uri": "https://localhost:8080/"
        },
        "id": "69h7piPnTQeM",
        "outputId": "54fffa67-9f4c-45a7-e36a-e3fa3a87a76f"
      },
      "execution_count": null,
      "outputs": [
        {
          "output_type": "stream",
          "name": "stdout",
          "text": [
            "d\n",
            "\n",
            "d\n",
            "Hi d,  and d.\n"
          ]
        }
      ]
    },
    {
      "cell_type": "markdown",
      "source": [
        "W2A11"
      ],
      "metadata": {
        "id": "sRoBl74SBMOP"
      }
    },
    {
      "cell_type": "code",
      "source": [
        "gio = int(input(\"Nhập Giờ: \"))\n",
        "phut = int(input(\"Nhập Phút: \"))\n",
        "giay = gio * 3600 + phut * 60\n",
        "print(f\"Giây: {giay}\")\n"
      ],
      "metadata": {
        "colab": {
          "base_uri": "https://localhost:8080/"
        },
        "id": "u8-TtL8uBT7M",
        "outputId": "10ef2003-5f2e-438f-9494-67647a3b9d57"
      },
      "execution_count": 1,
      "outputs": [
        {
          "output_type": "stream",
          "name": "stdout",
          "text": [
            "Nhập Giờ: 1\n",
            "Nhập Phút: 30\n",
            "Giây: 5400\n"
          ]
        }
      ]
    },
    {
      "cell_type": "markdown",
      "source": [
        "W2A12"
      ],
      "metadata": {
        "id": "rC9BYfXdB0Hb"
      }
    },
    {
      "cell_type": "code",
      "source": [
        "canh = int(input(\"Nhập Cạnh: \"))\n",
        "mieng_dan = 6 * canh * canh\n",
        "print(mieng_dan)"
      ],
      "metadata": {
        "colab": {
          "base_uri": "https://localhost:8080/"
        },
        "id": "AkX53FyWB1aq",
        "outputId": "e7b8481f-23ca-4958-ad8b-18f1f19a711b"
      },
      "execution_count": 3,
      "outputs": [
        {
          "output_type": "stream",
          "name": "stdout",
          "text": [
            "Nhập Cạnh: 3\n",
            "54\n"
          ]
        }
      ]
    },
    {
      "cell_type": "markdown",
      "source": [
        "W2A13"
      ],
      "metadata": {
        "id": "Ch_V3oB7DDw5"
      }
    },
    {
      "cell_type": "code",
      "source": [
        "a = int(input(\"Nhập a: \"))\n",
        "b = int(input(\"Nhập b: \"))\n",
        "hang_don_vi = (a*b) % 10\n",
        "print(hang_don_vi)"
      ],
      "metadata": {
        "colab": {
          "base_uri": "https://localhost:8080/"
        },
        "id": "-uCPKssMDF5z",
        "outputId": "d62c91de-5e82-4f1a-ae4f-97cd36289aee"
      },
      "execution_count": 5,
      "outputs": [
        {
          "output_type": "stream",
          "name": "stdout",
          "text": [
            "Nhập a: 1000\n",
            "Nhập b: 126\n",
            "0\n"
          ]
        }
      ]
    },
    {
      "cell_type": "markdown",
      "source": [
        "W2A14"
      ],
      "metadata": {
        "id": "_4aEZODCEOMi"
      }
    },
    {
      "cell_type": "code",
      "source": [
        "a = int(input(\"Nhập a: \"))\n",
        "b = int(input(\"Nhập b: \"))\n",
        "temp = a\n",
        "a = b\n",
        "b = temp\n",
        "print(a,b )"
      ],
      "metadata": {
        "colab": {
          "base_uri": "https://localhost:8080/"
        },
        "id": "D-QMMENZEP5w",
        "outputId": "d14220f9-16d4-4055-c6df-d4ca4edcff4e"
      },
      "execution_count": 8,
      "outputs": [
        {
          "output_type": "stream",
          "name": "stdout",
          "text": [
            "Nhập a: 1\n",
            "Nhập b: 2\n",
            "2 1\n"
          ]
        }
      ]
    },
    {
      "cell_type": "markdown",
      "source": [
        "W2A15"
      ],
      "metadata": {
        "id": "DIW3wJixGUcl"
      }
    },
    {
      "cell_type": "code",
      "source": [
        "\n",
        "n = int(input(\"Nhập n:\"))\n",
        "S = 6 * n * (n - 1) + 1\n",
        "print(S)\n"
      ],
      "metadata": {
        "id": "DEgjhXeRGWKi"
      },
      "execution_count": null,
      "outputs": []
    },
    {
      "cell_type": "markdown",
      "source": [
        "W2A16"
      ],
      "metadata": {
        "id": "D9Os50ApG5kk"
      }
    },
    {
      "cell_type": "code",
      "source": [
        "print(\"Spring\\nSummer\\nAutumn\\nWinter\")"
      ],
      "metadata": {
        "id": "w8N8avQ2G60W"
      },
      "execution_count": null,
      "outputs": []
    },
    {
      "cell_type": "markdown",
      "source": [
        "W2A17"
      ],
      "metadata": {
        "id": "WRU1L57tG_1O"
      }
    },
    {
      "cell_type": "code",
      "source": [
        "for i in range(1,6,2):\n",
        "  print(\"*\" * i)"
      ],
      "metadata": {
        "colab": {
          "base_uri": "https://localhost:8080/"
        },
        "id": "rwiytW1XHSJ8",
        "outputId": "4d076534-9bb7-4afd-9617-0396b088a7b3"
      },
      "execution_count": 9,
      "outputs": [
        {
          "output_type": "stream",
          "name": "stdout",
          "text": [
            "*\n",
            "***\n",
            "*****\n"
          ]
        }
      ]
    },
    {
      "cell_type": "markdown",
      "source": [
        "W2A18"
      ],
      "metadata": {
        "id": "UzGm1W7EHkNk"
      }
    },
    {
      "cell_type": "code",
      "source": [
        "print(\"### # #      ### ###\")\n",
        "print(\" #  #    #    #   #\")\n",
        "print(\" #  #     #   #   #\")\n",
        "print(\" #  #    #    #   #\")\n",
        "print(\" #  # #       #   #\")\n"
      ],
      "metadata": {
        "colab": {
          "base_uri": "https://localhost:8080/"
        },
        "id": "vQK_Yy3aHsC-",
        "outputId": "d83939d2-ec85-4e13-f527-69e1a35a4796"
      },
      "execution_count": 11,
      "outputs": [
        {
          "output_type": "stream",
          "name": "stdout",
          "text": [
            "### # #      ### ###\n",
            " #  #    #    #   #\n",
            " #  #     #   #   #\n",
            " #  #    #    #   #\n",
            " #  # #       #   #\n"
          ]
        }
      ]
    },
    {
      "cell_type": "markdown",
      "source": [
        "W2A19"
      ],
      "metadata": {
        "id": "5cSsqRdUH4ub"
      }
    },
    {
      "cell_type": "code",
      "source": [
        "print(\"Monday\")\n",
        "print(\"Tuesday\")\n",
        "print(\"Wednesday\")\n",
        "print(\"Thursday\")\n",
        "print(\"Friday\")\n",
        "print(\"Saturday\")\n",
        "print(\"Sunday\")"
      ],
      "metadata": {
        "id": "6ULZDzZRH6MD"
      },
      "execution_count": null,
      "outputs": []
    },
    {
      "cell_type": "markdown",
      "source": [
        "W2A20"
      ],
      "metadata": {
        "id": "VF39oEHiIHya"
      }
    },
    {
      "cell_type": "code",
      "source": [
        "print(\"January\")\n",
        "print(\"February\")\n",
        "print(\"March\")\n",
        "print(\"April\")\n",
        "print(\"May\")\n",
        "print(\"June\")\n",
        "print(\"July\")\n",
        "print(\"August\")\n",
        "print(\"September\")\n",
        "print(\"October\")\n",
        "print(\"November\")\n",
        "print(\"December\")"
      ],
      "metadata": {
        "id": "A7ezyl0tJd3Q"
      },
      "execution_count": null,
      "outputs": []
    },
    {
      "cell_type": "markdown",
      "source": [
        "W2A21"
      ],
      "metadata": {
        "id": "r2p_W5b6J6K2"
      }
    },
    {
      "cell_type": "code",
      "source": [
        "for i in range (11):\n",
        "  print(\"Hello, World\")"
      ],
      "metadata": {
        "colab": {
          "base_uri": "https://localhost:8080/"
        },
        "id": "knBl9hqcJ7or",
        "outputId": "b080b43e-ae14-4559-f52e-a22ef00c4157"
      },
      "execution_count": 13,
      "outputs": [
        {
          "output_type": "stream",
          "name": "stdout",
          "text": [
            "Hello, World\n",
            "Hello, World\n",
            "Hello, World\n",
            "Hello, World\n",
            "Hello, World\n",
            "Hello, World\n",
            "Hello, World\n",
            "Hello, World\n",
            "Hello, World\n",
            "Hello, World\n",
            "Hello, World\n"
          ]
        }
      ]
    }
  ]
}