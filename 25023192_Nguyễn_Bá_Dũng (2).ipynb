{
  "nbformat": 4,
  "nbformat_minor": 0,
  "metadata": {
    "colab": {
      "provenance": []
    },
    "kernelspec": {
      "name": "python3",
      "display_name": "Python 3"
    },
    "language_info": {
      "name": "python"
    }
  },
  "cells": [
    {
      "cell_type": "code",
      "execution_count": 2,
      "metadata": {
        "colab": {
          "base_uri": "https://localhost:8080/"
        },
        "id": "uJWC9D482xSd",
        "outputId": "9030918c-ba33-43e6-9411-f1a4cea3f809"
      },
      "outputs": [
        {
          "output_type": "stream",
          "name": "stdout",
          "text": [
            "Nhập Toán: 10\n",
            "Nhập Lý: 10\n",
            "Nhập Hóa: 3\n",
            "Nhập Anh: 3\n",
            "Trung Bình\n"
          ]
        }
      ],
      "source": [
        "toan = float(input(\"Nhập Toán: \"))\n",
        "ly = float(input(\"Nhập Lý: \"))\n",
        "hoa = float(input(\"Nhập Hóa: \"))\n",
        "anh = float(input(\"Nhập Anh: \"))\n",
        "\n",
        "dtb = (toan + ly + hoa + anh) / 4\n",
        "\n",
        "if dtb >= 9.0:\n",
        "    print(\"Xuất Sắc\")\n",
        "elif 8.5 <= dtb < 9.0:\n",
        "    print(\"Giỏi\")\n",
        "elif 7.0 <= dtb < 8.5:\n",
        "    print(\"Khá\")\n",
        "elif 5.5 <= dtb < 7.0:\n",
        "    print(\"Trung Bình\")\n",
        "elif dtb < 5.5:\n",
        "    print(\"Yếu\")\n",
        "elif toan < 4 or ly < 4 or hoa < 4 or anh < 4:\n",
        "    print(\"Yếu\")"
      ]
    },
    {
      "cell_type": "markdown",
      "source": [],
      "metadata": {
        "id": "pLiQRU2i4F3E"
      }
    },
    {
      "cell_type": "code",
      "source": [
        "Bài 2"
      ],
      "metadata": {
        "id": "9pJp91574GVr"
      },
      "execution_count": null,
      "outputs": []
    },
    {
      "cell_type": "code",
      "source": [
        "cn = float(input('Cân nặng :'))\n",
        "cc = float(input('Chiều cao :'))\n",
        "BMI = cn/(cc*cc)\n",
        "if BMI < 18.5:\n",
        "  print('Phan loai: Thiếu cân')\n",
        "elif 18.5 <= BMI < 25:\n",
        "  print('Phan loai: Bình thường')\n",
        "elif 25 <= BMI < 30:\n",
        "  print('Phan loai: Thừa cân')\n",
        "elif BMI > 30:\n",
        "  print('Phan loai: Béo phì')\n",
        "print(f'Chi số = {BMI:.2f}')\n"
      ],
      "metadata": {
        "id": "95x64dOQ6zJ3"
      },
      "execution_count": null,
      "outputs": []
    },
    {
      "cell_type": "markdown",
      "source": [
        "Bài 3"
      ],
      "metadata": {
        "id": "McLcTipLD4A9"
      }
    },
    {
      "cell_type": "code",
      "source": [
        "n = int(input(\"Nhập số lượng mặt hàng: \"))\n",
        "\n",
        "items = []\n",
        "for i in range(n):\n",
        "    name = input(\"Tên mặt hàng: \")\n",
        "    qty = int(input(\"Số lượng: \"))\n",
        "    price = float(input(\"Đơn giá: \"))\n",
        "    total = qty * price\n",
        "    items.append([i+1, name, qty, price, total])\n",
        "\n",
        "tong = sum(item[4] for item in items)\n",
        "\n",
        "discount = 0\n",
        "if tong >= 100:\n",
        "    discount = tong * 0.10\n",
        "elif tong >= 50:\n",
        "    discount = tong * 0.05\n",
        "\n",
        "final_total = tong - discount\n",
        "\n",
        "print(\"\\n=== HOA DON HIEU SACH ===\")\n",
        "print(f\"{'STT':<5}{'Tên hàng':<20}{'SL':<5}{'Đơn giá':<10}{'Thành tiền':<12}\")\n",
        "print(\"-\" * 55)\n",
        "for item in items:\n",
        "    print(f\"{item[0]:<5}{item[1]:<20}{item[2]:<5}{item[3]:<10.2f}{item[4]:<12.2f}\")\n",
        "print(\"-\" * 55)\n",
        "print(f\"{'Tổng cộng:':<40}{tong:.2f}$\")\n",
        "print(f\"{'Giảm giá:':<40}{discount:.2f}$\")\n",
        "print(f\"{'Phải trả:':<40}{final_total:.2f}$\")\n",
        "\n"
      ],
      "metadata": {
        "id": "eAfw-2EwD-He"
      },
      "execution_count": null,
      "outputs": []
    }
  ]
}